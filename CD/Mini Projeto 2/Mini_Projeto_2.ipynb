{
 "cells": [
  {
   "cell_type": "markdown",
   "metadata": {},
   "source": [
    "# Mini Projeto 2"
   ]
  },
  {
   "cell_type": "markdown",
   "metadata": {},
   "source": [
    "## Bruno Gomes e Gabriel Moreira 2ºB"
   ]
  },
  {
   "cell_type": "markdown",
   "metadata": {},
   "source": [
    "### Teorema do Limite Central"
   ]
  },
  {
   "cell_type": "markdown",
   "metadata": {},
   "source": [
    "O Teorema do Limite Central afirma que tendo uma variável aleatória X, X̅~N (μ; (σ^2) / n) quando n (tamanho da amostra) é suficientemente grande, mesmo que X tenha uma distribuição diferente da normal."
   ]
  },
  {
   "cell_type": "markdown",
   "metadata": {},
   "source": [
    "X̅ é chamado de Média Amostral, e é uma função muito utilizada na estatística para ajudar na estimativa de parâmetros populacionais que não conhecemos, como por exemplo, a média populacional (μ). A Média Amostral pode ser calculada pela fórmula:  X̅ = (∑^n Xi) / n."
   ]
  },
  {
   "cell_type": "markdown",
   "metadata": {},
   "source": [
    "Segue a demonstração do Teorema do Limite Central."
   ]
  },
  {
   "cell_type": "markdown",
   "metadata": {},
   "source": [
    "### Criando database"
   ]
  },
  {
   "cell_type": "code",
   "execution_count": 21,
   "metadata": {
    "collapsed": true
   },
   "outputs": [],
   "source": [
    "%matplotlib inline\n",
    "import pandas as pd\n",
    "import matplotlib.pyplot as plt\n",
    "import numpy as np\n",
    "import math\n",
    "from scipy import stats\n",
    "from scipy.stats import alpha"
   ]
  },
  {
   "cell_type": "code",
   "execution_count": 22,
   "metadata": {
    "collapsed": false
   },
   "outputs": [
    {
     "name": "stdout",
     "output_type": "stream",
     "text": [
      "Esperamos trabalhar no diretório\n",
      "C:\\Users\\Usuario\\Anaconda3\\Scripts\n"
     ]
    }
   ],
   "source": [
    "import os\n",
    "print('Esperamos trabalhar no diretório')\n",
    "print(os.getcwd())"
   ]
  },
  {
   "cell_type": "code",
   "execution_count": 23,
   "metadata": {
    "collapsed": false
   },
   "outputs": [],
   "source": [
    "a = 3.57\n",
    "data = alpha.rvs(a, loc=13, scale=8, size=1000000, random_state=None)"
   ]
  },
  {
   "cell_type": "code",
   "execution_count": 24,
   "metadata": {
    "collapsed": false
   },
   "outputs": [
    {
     "name": "stdout",
     "output_type": "stream",
     "text": [
      "Média: 15.5171365941\n",
      "Variância: 67.0322709431\n",
      "Desvio Padrão: 8.18732379615\n"
     ]
    }
   ],
   "source": [
    "media = data.mean()\n",
    "print('Média:',media)\n",
    "var = data.var()\n",
    "print('Variância:',var)\n",
    "desv = var**(1/2)\n",
    "print('Desvio Padrão:',desv)"
   ]
  },
  {
   "cell_type": "markdown",
   "metadata": {},
   "source": [
    "### n = 2"
   ]
  },
  {
   "cell_type": "code",
   "execution_count": 25,
   "metadata": {
    "collapsed": false
   },
   "outputs": [
    {
     "name": "stdout",
     "output_type": "stream",
     "text": [
      "Média teste: 14.978890847\n"
     ]
    }
   ],
   "source": [
    "n = 2\n",
    "lista_media = []\n",
    "for i in range(10000):\n",
    "    soma = 0\n",
    "    x = np.random.choice(data,n)\n",
    "    for i in range(len(x)):\n",
    "        soma+=x[i]\n",
    "        media = soma/n\n",
    "    lista_media.append(media)\n",
    "\n",
    "print('Média teste:',media)"
   ]
  },
  {
   "cell_type": "code",
   "execution_count": 26,
   "metadata": {
    "collapsed": false
   },
   "outputs": [
    {
     "name": "stdout",
     "output_type": "stream",
     "text": [
      "Média amostral: 15.501874285942453\n",
      "Variância amostral: 1.5236802005351293\n"
     ]
    }
   ],
   "source": [
    "dataframe = pd.Series(lista_media)\n",
    "print('Média amostral:',dataframe.mean())\n",
    "print('Variância amostral:',dataframe.var())"
   ]
  },
  {
   "cell_type": "code",
   "execution_count": 27,
   "metadata": {
    "collapsed": false
   },
   "outputs": [
    {
     "data": {
      "image/png": "[encoded data removed]",
      "text/plain": [
       "<matplotlib.figure.Figure at 0x961a2b0>"
      ]
     },
     "metadata": {},
     "output_type": "display_data"
    }
   ],
   "source": [
    "faixa = np.arange(14,20,0.25)\n",
    "hist = dataframe.plot(kind = 'hist',bins = faixa, normed = True)"
   ]
  },
  {
   "cell_type": "markdown",
   "metadata": {
    "collapsed": true
   },
   "source": [
    "### n = 4"
   ]
  },
  {
   "cell_type": "code",
   "execution_count": 28,
   "metadata": {
    "collapsed": false
   },
   "outputs": [
    {
     "name": "stdout",
     "output_type": "stream",
     "text": [
      "Média teste: 15.2624325472\n"
     ]
    }
   ],
   "source": [
    "n = 4\n",
    "lista_media = []\n",
    "for i in range(10000):\n",
    "    soma = 0\n",
    "    x = np.random.choice(data,n)\n",
    "    for i in range(len(x)):\n",
    "        soma+=x[i]\n",
    "        media = soma/n\n",
    "    lista_media.append(media)\n",
    "\n",
    "print('Média teste:',media)"
   ]
  },
  {
   "cell_type": "code",
   "execution_count": 29,
   "metadata": {
    "collapsed": false
   },
   "outputs": [
    {
     "name": "stdout",
     "output_type": "stream",
     "text": [
      "Média amostral: 15.666271657455681\n",
      "Variância amostral: 283.8239208123211\n"
     ]
    }
   ],
   "source": [
    "dataframe = pd.Series(lista_media)\n",
    "print('Média amostral:',dataframe.mean())\n",
    "print('Variância amostral:',dataframe.var())"
   ]
  },
  {
   "cell_type": "code",
   "execution_count": 30,
   "metadata": {
    "collapsed": false
   },
   "outputs": [
    {
     "data": {
      "image/png": "[encoded data removed]",
      "text/plain": [
       "<matplotlib.figure.Figure at 0x9be7d68>"
      ]
     },
     "metadata": {},
     "output_type": "display_data"
    }
   ],
   "source": [
    "faixa = np.arange(14,20,0.25)\n",
    "hist = dataframe.plot(kind = 'hist',bins = faixa, normed = True)"
   ]
  },
  {
   "cell_type": "markdown",
   "metadata": {},
   "source": [
    "### n = 20"
   ]
  },
  {
   "cell_type": "code",
   "execution_count": 31,
   "metadata": {
    "collapsed": false
   },
   "outputs": [
    {
     "name": "stdout",
     "output_type": "stream",
     "text": [
      "Média teste: 15.7331141175\n"
     ]
    }
   ],
   "source": [
    "n = 20\n",
    "lista_media = []\n",
    "for i in range(10000):\n",
    "    soma = 0\n",
    "    x = np.random.choice(data,n)\n",
    "    for i in range(len(x)):\n",
    "        soma+=x[i]\n",
    "        media = soma/n\n",
    "    lista_media.append(media)\n",
    "\n",
    "print('Média teste:',media)"
   ]
  },
  {
   "cell_type": "code",
   "execution_count": 32,
   "metadata": {
    "collapsed": false
   },
   "outputs": [
    {
     "name": "stdout",
     "output_type": "stream",
     "text": [
      "Média amostral: 15.551511885823837\n",
      "Variância amostral: 13.270019106715825\n"
     ]
    }
   ],
   "source": [
    "dataframe = pd.Series(lista_media)\n",
    "print('Média amostral:',dataframe.mean())\n",
    "print('Variância amostral:',dataframe.var())"
   ]
  },
  {
   "cell_type": "code",
   "execution_count": 33,
   "metadata": {
    "collapsed": false
   },
   "outputs": [
    {
     "data": {
      "image/png": "[encoded data removed]",
      "text/plain": [
       "<matplotlib.figure.Figure at 0x975ca20>"
      ]
     },
     "metadata": {},
     "output_type": "display_data"
    }
   ],
   "source": [
    "faixa = np.arange(14,20,0.25)\n",
    "hist = dataframe.plot(kind = 'hist',bins = faixa, normed = True)"
   ]
  },
  {
   "cell_type": "markdown",
   "metadata": {},
   "source": [
    "### n = 50"
   ]
  },
  {
   "cell_type": "code",
   "execution_count": 34,
   "metadata": {
    "collapsed": false
   },
   "outputs": [
    {
     "name": "stdout",
     "output_type": "stream",
     "text": [
      "Média teste: 15.4135085459\n"
     ]
    }
   ],
   "source": [
    "n = 50\n",
    "lista_media = []\n",
    "lista_primeiro = []\n",
    "lista_nono = []\n",
    "for i in range(10000):\n",
    "    soma = 0\n",
    "    x = np.random.choice(data,n)\n",
    "    lista_primeiro.append(x[0])\n",
    "    lista_nono.append(x[8])\n",
    "    for i in range(len(x)):\n",
    "        soma+=x[i]\n",
    "        media = soma/n\n",
    "    lista_media.append(media)\n",
    "\n",
    "print('Média teste:',media)"
   ]
  },
  {
   "cell_type": "code",
   "execution_count": 35,
   "metadata": {
    "collapsed": false
   },
   "outputs": [
    {
     "name": "stdout",
     "output_type": "stream",
     "text": [
      "Média amostral: 15.505352212792172\n",
      "Variância amostral: 0.09941844109608261\n"
     ]
    }
   ],
   "source": [
    "dataframe = pd.Series(lista_media)\n",
    "print('Média amostral:',dataframe.mean())\n",
    "print('Variância amostral:',dataframe.var())"
   ]
  },
  {
   "cell_type": "code",
   "execution_count": 36,
   "metadata": {
    "collapsed": false,
    "scrolled": true
   },
   "outputs": [
    {
     "data": {
      "image/png": "[encoded data removed]",
      "text/plain": [
       "<matplotlib.figure.Figure at 0x9c6ecf8>"
      ]
     },
     "metadata": {},
     "output_type": "display_data"
    }
   ],
   "source": [
    "faixa = np.arange(14,20,0.25)\n",
    "hist = dataframe.plot(kind = 'hist',bins = faixa, normed = True)"
   ]
  },
  {
   "cell_type": "markdown",
   "metadata": {},
   "source": [
    "### Amostra Aleatória"
   ]
  },
  {
   "cell_type": "code",
   "execution_count": 37,
   "metadata": {
    "collapsed": true
   },
   "outputs": [],
   "source": [
    "dataframe1 = pd.Series(lista_primeiro)\n",
    "dataframe9 = pd.Series(lista_nono)"
   ]
  },
  {
   "cell_type": "code",
   "execution_count": 38,
   "metadata": {
    "collapsed": false
   },
   "outputs": [
    {
     "data": {
      "image/png": "[encoded data removed]",
      "text/plain": [
       "<matplotlib.figure.Figure at 0x9ac5b00>"
      ]
     },
     "metadata": {},
     "output_type": "display_data"
    }
   ],
   "source": [
    "hist1 = dataframe1.plot(kind = 'hist',bins = faixa, normed = True)"
   ]
  },
  {
   "cell_type": "code",
   "execution_count": 39,
   "metadata": {
    "collapsed": false
   },
   "outputs": [
    {
     "data": {
      "image/png": "[encoded data removed]",
      "text/plain": [
       "<matplotlib.figure.Figure at 0x9731e10>"
      ]
     },
     "metadata": {},
     "output_type": "display_data"
    }
   ],
   "source": [
    "hist9 = dataframe9.plot(kind = 'hist',bins = faixa, normed = True)"
   ]
  },
  {
   "cell_type": "code",
   "execution_count": 40,
   "metadata": {
    "collapsed": false
   },
   "outputs": [
    {
     "name": "stdout",
     "output_type": "stream",
     "text": [
      "Correlação: 0.00452762242654\n"
     ]
    }
   ],
   "source": [
    "corr = dataframe1.corr(dataframe9)\n",
    "print(\"Correlação:\", corr)"
   ]
  },
  {
   "cell_type": "markdown",
   "metadata": {},
   "source": [
    "Como foi demonstrado, por se tratar de amostras aleatórias independentes, a correlação entre elas é próxima de zero."
   ]
  },
  {
   "cell_type": "markdown",
   "metadata": {
    "collapsed": true
   },
   "source": [
    "### Conclusão"
   ]
  },
  {
   "cell_type": "markdown",
   "metadata": {},
   "source": [
    "No início do trabalho criamos uma database que tivesse uma distribuição diferente da normal e tamanho 1.000.000, então pegamos dois valores aleatórios dessa distribuição e fizemos a média deles. Repetimos isso para quatro, vinte e cinquenta valores e montamos um histograma para cada um para facilitar a análise dos resultados."
   ]
  },
  {
   "cell_type": "markdown",
   "metadata": {},
   "source": [
    "Após realizarmos a análise dos histogramas da distribuição da média amostral para diferentes valores de n, percebemos que o resultado condiz com o esperado pelo Teorema do Limite Central, em que a distribuição de X̅ se assemelha cada vez mais a uma distribuição normal."
   ]
  }
 ],
 "metadata": {
  "kernelspec": {
   "display_name": "Python 3",
   "language": "python",
   "name": "python3"
  },
  "language_info": {
   "codemirror_mode": {
    "name": "ipython",
    "version": 3
   },
   "file_extension": ".py",
   "mimetype": "text/x-python",
   "name": "python",
   "nbconvert_exporter": "python",
   "pygments_lexer": "ipython3",
   "version": "3.5.2"
  }
 },
 "nbformat": 4,
 "nbformat_minor": 1
}
