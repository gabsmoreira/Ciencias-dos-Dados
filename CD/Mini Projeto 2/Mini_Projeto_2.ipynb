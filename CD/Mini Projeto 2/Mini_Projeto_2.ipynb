{
 "cells": [
  {
   "cell_type": "markdown",
   "metadata": {},
   "source": [
    "# Mini Projeto 2"
   ]
  },
  {
   "cell_type": "markdown",
   "metadata": {},
   "source": [
    "## Bruno Gomes e Gabriel Moreira 2ºB"
   ]
  },
  {
   "cell_type": "markdown",
   "metadata": {},
   "source": [
    "### Criando database"
   ]
  },
  {
   "cell_type": "code",
   "execution_count": 4,
   "metadata": {
    "collapsed": true
   },
   "outputs": [],
   "source": [
    "%matplotlib inline\n",
    "import pandas as pd\n",
    "import matplotlib.pyplot as plt\n",
    "import numpy as np\n",
    "import math\n",
    "from scipy import stats\n",
    "from scipy.stats import alpha"
   ]
  },
  {
   "cell_type": "code",
   "execution_count": 42,
   "metadata": {
    "collapsed": false
   },
   "outputs": [
    {
     "name": "stdout",
     "output_type": "stream",
     "text": [
      "Esperamos trabalhar no diretório\n"
     ]
    },
    {
     "ename": "NameError",
     "evalue": "name 'os' is not defined",
     "output_type": "error",
     "traceback": [
      "\u001b[1;31m---------------------------------------------------------------------------\u001b[0m",
      "\u001b[1;31mNameError\u001b[0m                                 Traceback (most recent call last)",
      "\u001b[1;32m<ipython-input-42-f737a27c246d>\u001b[0m in \u001b[0;36m<module>\u001b[1;34m()\u001b[0m\n\u001b[0;32m      1\u001b[0m \u001b[0mprint\u001b[0m\u001b[1;33m(\u001b[0m\u001b[1;34m'Esperamos trabalhar no diretório'\u001b[0m\u001b[1;33m)\u001b[0m\u001b[1;33m\u001b[0m\u001b[0m\n\u001b[1;32m----> 2\u001b[1;33m \u001b[0mprint\u001b[0m\u001b[1;33m(\u001b[0m\u001b[0mos\u001b[0m\u001b[1;33m.\u001b[0m\u001b[0mgetcwd\u001b[0m\u001b[1;33m(\u001b[0m\u001b[1;33m)\u001b[0m\u001b[1;33m)\u001b[0m\u001b[1;33m\u001b[0m\u001b[0m\n\u001b[0m",
      "\u001b[1;31mNameError\u001b[0m: name 'os' is not defined"
     ]
    }
   ],
   "source": [
    "print('Esperamos trabalhar no diretório')\n",
    "print(os.getcwd())"
   ]
  },
  {
   "cell_type": "code",
   "execution_count": 5,
   "metadata": {
    "collapsed": false
   },
   "outputs": [],
   "source": [
    "a = 3.57\n",
    "data = alpha.rvs(a, loc=13, scale=8, size=1000000, random_state=None)"
   ]
  },
  {
   "cell_type": "code",
   "execution_count": 6,
   "metadata": {
    "collapsed": false
   },
   "outputs": [
    {
     "name": "stdout",
     "output_type": "stream",
     "text": [
      "Média: 15.5132701619\n",
      "Variância: 21.9467973104\n",
      "Desvio Padrão: 4.6847409011\n"
     ]
    }
   ],
   "source": [
    "media = data.mean()\n",
    "print('Média:',media)\n",
    "var = data.var()\n",
    "print('Variância:',var)\n",
    "desv = var**(1/2)\n",
    "print('Desvio Padrão:',desv)"
   ]
  },
  {
   "cell_type": "markdown",
   "metadata": {},
   "source": [
    "### n = 2"
   ]
  },
  {
   "cell_type": "code",
   "execution_count": 7,
   "metadata": {
    "collapsed": false
   },
   "outputs": [
    {
     "name": "stdout",
     "output_type": "stream",
     "text": [
      "Média teste: 15.7291064268\n"
     ]
    }
   ],
   "source": [
    "n = 2\n",
    "lista_media = []\n",
    "for i in range(10000):\n",
    "    soma = 0\n",
    "    x = np.random.choice(data,n)\n",
    "    for i in range(len(x)):\n",
    "        soma+=x[i]\n",
    "        media = soma/n\n",
    "    lista_media.append(media)\n",
    "\n",
    "print('Média teste:',media)"
   ]
  },
  {
   "cell_type": "code",
   "execution_count": 8,
   "metadata": {
    "collapsed": false
   },
   "outputs": [
    {
     "name": "stdout",
     "output_type": "stream",
     "text": [
      "Média amostral: 15.490299169726727\n",
      "Variância amostral: 0.718459282113053\n"
     ]
    }
   ],
   "source": [
    "dataframe = pd.Series(lista_media)\n",
    "print('Média amostral:',dataframe.mean())\n",
    "print('Variância amostral:',dataframe.var())"
   ]
  },
  {
   "cell_type": "code",
   "execution_count": 9,
   "metadata": {
    "collapsed": false
   },
   "outputs": [
    {
     "data": {
      "image/png": "[encoded data removed]",
      "text/plain": [
       "<matplotlib.figure.Figure at 0x9480a58>"
      ]
     },
     "metadata": {},
     "output_type": "display_data"
    }
   ],
   "source": [
    "faixa = np.arange(14,20,0.25)\n",
    "hist = dataframe.plot(kind = 'hist',bins = faixa, normed = True)"
   ]
  },
  {
   "cell_type": "markdown",
   "metadata": {
    "collapsed": true
   },
   "source": [
    "### n = 4"
   ]
  },
  {
   "cell_type": "code",
   "execution_count": 10,
   "metadata": {
    "collapsed": false
   },
   "outputs": [
    {
     "name": "stdout",
     "output_type": "stream",
     "text": [
      "Média teste: 15.3032894623\n"
     ]
    }
   ],
   "source": [
    "n = 4\n",
    "lista_media = []\n",
    "for i in range(10000):\n",
    "    soma = 0\n",
    "    x = np.random.choice(data,n)\n",
    "    for i in range(len(x)):\n",
    "        soma+=x[i]\n",
    "        media = soma/n\n",
    "    lista_media.append(media)\n",
    "\n",
    "print('Média teste:',media)"
   ]
  },
  {
   "cell_type": "code",
   "execution_count": 11,
   "metadata": {
    "collapsed": false
   },
   "outputs": [
    {
     "name": "stdout",
     "output_type": "stream",
     "text": [
      "Média amostral: 15.50778662799822\n",
      "Variância amostral: 0.8747916467904601\n"
     ]
    }
   ],
   "source": [
    "dataframe = pd.Series(lista_media)\n",
    "print('Média amostral:',dataframe.mean())\n",
    "print('Variância amostral:',dataframe.var())"
   ]
  },
  {
   "cell_type": "code",
   "execution_count": 12,
   "metadata": {
    "collapsed": false
   },
   "outputs": [
    {
     "data": {
      "image/png": "[encoded data removed]",
      "text/plain": [
       "<matplotlib.figure.Figure at 0x96f6c50>"
      ]
     },
     "metadata": {},
     "output_type": "display_data"
    }
   ],
   "source": [
    "faixa = np.arange(14,20,0.25)\n",
    "hist = dataframe.plot(kind = 'hist',bins = faixa, normed = True)"
   ]
  },
  {
   "cell_type": "markdown",
   "metadata": {},
   "source": [
    "### n = 20"
   ]
  },
  {
   "cell_type": "code",
   "execution_count": 13,
   "metadata": {
    "collapsed": false
   },
   "outputs": [
    {
     "name": "stdout",
     "output_type": "stream",
     "text": [
      "Média teste: 16.1687882463\n"
     ]
    }
   ],
   "source": [
    "n = 20\n",
    "lista_media = []\n",
    "for i in range(10000):\n",
    "    soma = 0\n",
    "    x = np.random.choice(data,n)\n",
    "    for i in range(len(x)):\n",
    "        soma+=x[i]\n",
    "        media = soma/n\n",
    "    lista_media.append(media)\n",
    "\n",
    "print('Média teste:',media)"
   ]
  },
  {
   "cell_type": "code",
   "execution_count": 14,
   "metadata": {
    "collapsed": false
   },
   "outputs": [
    {
     "name": "stdout",
     "output_type": "stream",
     "text": [
      "Média amostral: 15.524329092450719\n",
      "Variância amostral: 3.2190124180429587\n"
     ]
    }
   ],
   "source": [
    "dataframe = pd.Series(lista_media)\n",
    "print('Média amostral:',dataframe.mean())\n",
    "print('Variância amostral:',dataframe.var())"
   ]
  },
  {
   "cell_type": "code",
   "execution_count": 15,
   "metadata": {
    "collapsed": false
   },
   "outputs": [
    {
     "data": {
      "image/png": "[encoded data removed]",
      "text/plain": [
       "<matplotlib.figure.Figure at 0x974fb00>"
      ]
     },
     "metadata": {},
     "output_type": "display_data"
    }
   ],
   "source": [
    "faixa = np.arange(14,20,0.25)\n",
    "hist = dataframe.plot(kind = 'hist',bins = faixa, normed = True)"
   ]
  },
  {
   "cell_type": "markdown",
   "metadata": {},
   "source": [
    "### n = 50"
   ]
  },
  {
   "cell_type": "code",
   "execution_count": 32,
   "metadata": {
    "collapsed": false
   },
   "outputs": [
    {
     "name": "stdout",
     "output_type": "stream",
     "text": [
      "Média teste: 15.2957267985\n"
     ]
    }
   ],
   "source": [
    "n = 50\n",
    "lista_media = []\n",
    "lista_primeiro = []\n",
    "lista_nono = []\n",
    "for i in range(10000):\n",
    "    soma = 0\n",
    "    x = np.random.choice(data,n)\n",
    "    lista_primeiro.append(x[0])\n",
    "    lista_nono.append(x[8])\n",
    "    for i in range(len(x)):\n",
    "        soma+=x[i]\n",
    "        media = soma/n\n",
    "    lista_media.append(media)\n",
    "\n",
    "print('Média teste:',media)"
   ]
  },
  {
   "cell_type": "code",
   "execution_count": 33,
   "metadata": {
    "collapsed": false
   },
   "outputs": [
    {
     "name": "stdout",
     "output_type": "stream",
     "text": [
      "Média amostral: 15.510830176844687\n",
      "Variância amostral: 0.23581648738476954\n"
     ]
    }
   ],
   "source": [
    "dataframe = pd.Series(lista_media)\n",
    "print('Média amostral:',dataframe.mean())\n",
    "print('Variância amostral:',dataframe.var())"
   ]
  },
  {
   "cell_type": "code",
   "execution_count": 34,
   "metadata": {
    "collapsed": false,
    "scrolled": true
   },
   "outputs": [
    {
     "data": {
      "image/png": "[encoded data removed]",
      "text/plain": [
       "<matplotlib.figure.Figure at 0x9a672e8>"
      ]
     },
     "metadata": {},
     "output_type": "display_data"
    }
   ],
   "source": [
    "faixa = np.arange(14,20,0.25)\n",
    "hist = dataframe.plot(kind = 'hist',bins = faixa, normed = True)"
   ]
  },
  {
   "cell_type": "code",
   "execution_count": 35,
   "metadata": {
    "collapsed": true
   },
   "outputs": [],
   "source": [
    "dataframe1 = pd.Series(lista_primeiro)\n",
    "dataframe9 = pd.Series(lista_nono)"
   ]
  },
  {
   "cell_type": "code",
   "execution_count": 36,
   "metadata": {
    "collapsed": false
   },
   "outputs": [
    {
     "data": {
      "image/png": "[encoded data removed]",
      "text/plain": [
       "<matplotlib.figure.Figure at 0x9c16e48>"
      ]
     },
     "metadata": {},
     "output_type": "display_data"
    }
   ],
   "source": [
    "hist1 = dataframe1.plot(kind = 'hist',bins = faixa, normed = True)"
   ]
  },
  {
   "cell_type": "code",
   "execution_count": 31,
   "metadata": {
    "collapsed": false
   },
   "outputs": [
    {
     "data": {
      "image/png": "[encoded data removed]",
      "text/plain": [
       "<matplotlib.figure.Figure at 0xb5107f0>"
      ]
     },
     "metadata": {},
     "output_type": "display_data"
    }
   ],
   "source": [
    "hist9 = dataframe9.plot(kind = 'hist',bins = faixa, normed = True)"
   ]
  },
  {
   "cell_type": "code",
   "execution_count": 40,
   "metadata": {
    "collapsed": false
   },
   "outputs": [
    {
     "name": "stdout",
     "output_type": "stream",
     "text": [
      "Correlação: 0.00350221007314\n"
     ]
    }
   ],
   "source": [
    "corr = dataframe1.corr(dataframe9)\n",
    "print(\"Correlação:\", corr)"
   ]
  },
  {
   "cell_type": "markdown",
   "metadata": {},
   "source": [
    "Como foi demonstrado, por se tratar de amostras aleatórias independentes, a correlação entre elas é próxima de zero."
   ]
  },
  {
   "cell_type": "markdown",
   "metadata": {
    "collapsed": true
   },
   "source": [
    "### Conclusão"
   ]
  },
  {
   "cell_type": "markdown",
   "metadata": {},
   "source": [
    "O Teorema do Limite Central afirma que quando o tamanho da amostra aumenta, a distribuição amostral de suas médias tendem a uma distribuição normal."
   ]
  },
  {
   "cell_type": "markdown",
   "metadata": {},
   "source": [
    "No início do trabalho criamos uma database que tivesse uma distribuição diferente da normal e tamanho 1.000.000, então pegamos dois valores aleatórios dessa distribuição e fizemos a média deles. Repetimos isso para quatro, vinte e cinquenta valores e montamos um histograma para cada um para facilitar a análise dos resultados."
   ]
  },
  {
   "cell_type": "markdown",
   "metadata": {},
   "source": [
    "Percebemos que a cada vez que o número de amostras aumentava, a distribuição mostrada no histograma se assemelhava cada vez mais a de uma distribuição normal, que é exatamente o que o Teorema do Limite Central diz."
   ]
  }
 ],
 "metadata": {
  "kernelspec": {
   "display_name": "Python 3",
   "language": "python",
   "name": "python3"
  },
  "language_info": {
   "codemirror_mode": {
    "name": "ipython",
    "version": 3
   },
   "file_extension": ".py",
   "mimetype": "text/x-python",
   "name": "python",
   "nbconvert_exporter": "python",
   "pygments_lexer": "ipython3",
   "version": "3.5.2"
  }
 },
 "nbformat": 4,
 "nbformat_minor": 1
}
