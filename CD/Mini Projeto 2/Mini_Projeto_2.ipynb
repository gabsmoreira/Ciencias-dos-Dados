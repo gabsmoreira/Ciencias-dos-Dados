{
 "cells": [
  {
   "cell_type": "markdown",
   "metadata": {},
   "source": [
    "# Mini Projeto 2"
   ]
  },
  {
   "cell_type": "markdown",
   "metadata": {},
   "source": [
    "### Bruno Gomes e Gabriel Moreira 2ºB"
   ]
  },
  {
   "cell_type": "markdown",
   "metadata": {},
   "source": [
    "#### Criando database"
   ]
  },
  {
   "cell_type": "code",
   "execution_count": 50,
   "metadata": {
    "collapsed": true
   },
   "outputs": [],
   "source": [
    "%matplotlib inline\n",
    "import pandas as pd\n",
    "import matplotlib.pyplot as plt\n",
    "import numpy as np\n",
    "import math\n",
    "from scipy import stats\n",
    "from scipy.stats import alpha\n"
   ]
  },
  {
   "cell_type": "code",
   "execution_count": 51,
   "metadata": {
    "collapsed": false
   },
   "outputs": [],
   "source": [
    "a = 3.57\n",
    "data = alpha.rvs(a, loc=13, scale=8, size=1000000, random_state=None)"
   ]
  },
  {
   "cell_type": "code",
   "execution_count": 52,
   "metadata": {
    "collapsed": false
   },
   "outputs": [
    {
     "name": "stdout",
     "output_type": "stream",
     "text": [
      "Média 15.5532650737\n",
      "Variância 1164.57853365\n",
      "Desvio Padrão: 34.125921726\n"
     ]
    }
   ],
   "source": [
    "media = data.mean()\n",
    "print('Média',media)\n",
    "var = data.var()\n",
    "print('Variância',var)\n",
    "desv = var**(1/2)\n",
    "print('Desvio Padrão:',desv)"
   ]
  },
  {
   "cell_type": "markdown",
   "metadata": {},
   "source": [
    "## n =2"
   ]
  },
  {
   "cell_type": "code",
   "execution_count": 53,
   "metadata": {
    "collapsed": false
   },
   "outputs": [
    {
     "name": "stdout",
     "output_type": "stream",
     "text": [
      "Média teste: 15.0036113911\n"
     ]
    }
   ],
   "source": [
    "n = 2\n",
    "lista_media = []\n",
    "for i in range(10000):\n",
    "    soma = 0\n",
    "    x = np.random.choice(data,n)\n",
    "    for i in range(len(x)):\n",
    "        soma+=x[i]\n",
    "        media = soma/n\n",
    "    lista_media.append(media)\n",
    "\n",
    "print('Média teste:',media)"
   ]
  },
  {
   "cell_type": "code",
   "execution_count": 54,
   "metadata": {
    "collapsed": false
   },
   "outputs": [
    {
     "name": "stdout",
     "output_type": "stream",
     "text": [
      "Média amostral: 15.6013506146\n",
      "Variância amostral: 63.1233408548\n"
     ]
    }
   ],
   "source": [
    "dataframe = pd.Series(lista_media)\n",
    "print('Média amostral:',dataframe.mean())\n",
    "print('Variância amostral:',dataframe.var())"
   ]
  },
  {
   "cell_type": "code",
   "execution_count": 55,
   "metadata": {
    "collapsed": false
   },
   "outputs": [
    {
     "data": {
      "image/png": "[encoded data removed]",
      "text/plain": [
       "<matplotlib.figure.Figure at 0x7f89a19ea588>"
      ]
     },
     "metadata": {},
     "output_type": "display_data"
    }
   ],
   "source": [
    "faixa = np.arange(14,20,0.25)\n",
    "hist = dataframe.plot(kind = 'hist',bins = faixa, normed = True)"
   ]
  },
  {
   "cell_type": "markdown",
   "metadata": {
    "collapsed": true
   },
   "source": [
    "## n = 4"
   ]
  },
  {
   "cell_type": "code",
   "execution_count": 56,
   "metadata": {
    "collapsed": false
   },
   "outputs": [
    {
     "name": "stdout",
     "output_type": "stream",
     "text": [
      "Média teste: 15.1910612943\n"
     ]
    }
   ],
   "source": [
    "n = 4\n",
    "lista_media = []\n",
    "for i in range(10000):\n",
    "    soma = 0\n",
    "    x = np.random.choice(data,n)\n",
    "    for i in range(len(x)):\n",
    "        soma+=x[i]\n",
    "        media = soma/n\n",
    "    lista_media.append(media)\n",
    "\n",
    "print('Média teste:',media)"
   ]
  },
  {
   "cell_type": "code",
   "execution_count": 57,
   "metadata": {
    "collapsed": false
   },
   "outputs": [
    {
     "name": "stdout",
     "output_type": "stream",
     "text": [
      "Média amostral: 16.4703089438\n",
      "Variância amostral: 7109.89066367\n"
     ]
    }
   ],
   "source": [
    "dataframe = pd.Series(lista_media)\n",
    "print('Média amostral:',dataframe.mean())\n",
    "print('Variância amostral:',dataframe.var())"
   ]
  },
  {
   "cell_type": "code",
   "execution_count": 58,
   "metadata": {
    "collapsed": false
   },
   "outputs": [
    {
     "data": {
      "image/png": "[encoded data removed]",
      "text/plain": [
       "<matplotlib.figure.Figure at 0x7f899f872ac8>"
      ]
     },
     "metadata": {},
     "output_type": "display_data"
    }
   ],
   "source": [
    "faixa = np.arange(14,20,0.25)\n",
    "hist = dataframe.plot(kind = 'hist',bins = faixa, normed = True)"
   ]
  },
  {
   "cell_type": "markdown",
   "metadata": {},
   "source": [
    "## n = 20"
   ]
  },
  {
   "cell_type": "code",
   "execution_count": 59,
   "metadata": {
    "collapsed": false
   },
   "outputs": [
    {
     "name": "stdout",
     "output_type": "stream",
     "text": [
      "Média teste: 15.6900404576\n"
     ]
    }
   ],
   "source": [
    "n = 20\n",
    "lista_media = []\n",
    "for i in range(10000):\n",
    "    soma = 0\n",
    "    x = np.random.choice(data,n)\n",
    "    for i in range(len(x)):\n",
    "        soma+=x[i]\n",
    "        media = soma/n\n",
    "    lista_media.append(media)\n",
    "\n",
    "print('Média teste:',media)"
   ]
  },
  {
   "cell_type": "code",
   "execution_count": 60,
   "metadata": {
    "collapsed": false
   },
   "outputs": [
    {
     "name": "stdout",
     "output_type": "stream",
     "text": [
      "Média amostral: 15.5125885354\n",
      "Variância amostral: 0.689111563389\n"
     ]
    }
   ],
   "source": [
    "dataframe = pd.Series(lista_media)\n",
    "print('Média amostral:',dataframe.mean())\n",
    "print('Variância amostral:',dataframe.var())"
   ]
  },
  {
   "cell_type": "code",
   "execution_count": 61,
   "metadata": {
    "collapsed": false
   },
   "outputs": [
    {
     "data": {
      "image/png": "[encoded data removed]",
      "text/plain": [
       "<matplotlib.figure.Figure at 0x7f89a1b5bcf8>"
      ]
     },
     "metadata": {},
     "output_type": "display_data"
    }
   ],
   "source": [
    "faixa = np.arange(14,20,0.25)\n",
    "hist = dataframe.plot(kind = 'hist',bins = faixa, normed = True)"
   ]
  },
  {
   "cell_type": "markdown",
   "metadata": {},
   "source": [
    "## n = 50"
   ]
  },
  {
   "cell_type": "code",
   "execution_count": 62,
   "metadata": {
    "collapsed": false
   },
   "outputs": [
    {
     "name": "stdout",
     "output_type": "stream",
     "text": [
      "Média teste: 15.8293333512\n"
     ]
    }
   ],
   "source": [
    "n = 50\n",
    "lista_media = []\n",
    "for i in range(10000):\n",
    "    soma = 0\n",
    "    x = np.random.choice(data,n)\n",
    "    for i in range(len(x)):\n",
    "        soma+=x[i]\n",
    "        media = soma/n\n",
    "    lista_media.append(media)\n",
    "\n",
    "print('Média teste:',media)"
   ]
  },
  {
   "cell_type": "code",
   "execution_count": 63,
   "metadata": {
    "collapsed": false
   },
   "outputs": [
    {
     "name": "stdout",
     "output_type": "stream",
     "text": [
      "Média amostral: 15.5923566363\n",
      "Variância amostral: 46.2970633245\n"
     ]
    }
   ],
   "source": [
    "dataframe = pd.Series(lista_media)\n",
    "print('Média amostral:',dataframe.mean())\n",
    "print('Variância amostral:',dataframe.var())"
   ]
  },
  {
   "cell_type": "code",
   "execution_count": 64,
   "metadata": {
    "collapsed": false
   },
   "outputs": [
    {
     "data": {
      "image/png": "[encoded data removed]",
      "text/plain": [
       "<matplotlib.figure.Figure at 0x7f899f563b00>"
      ]
     },
     "metadata": {},
     "output_type": "display_data"
    }
   ],
   "source": [
    "faixa = np.arange(14,20,0.25)\n",
    "hist = dataframe.plot(kind = 'hist',bins = faixa, normed = True)"
   ]
  },
  {
   "cell_type": "code",
   "execution_count": null,
   "metadata": {
    "collapsed": true
   },
   "outputs": [],
   "source": []
  }
 ],
 "metadata": {
  "kernelspec": {
   "display_name": "Python 3",
   "language": "python",
   "name": "python3"
  },
  "language_info": {
   "codemirror_mode": {
    "name": "ipython",
    "version": 3
   },
   "file_extension": ".py",
   "mimetype": "text/x-python",
   "name": "python",
   "nbconvert_exporter": "python",
   "pygments_lexer": "ipython3",
   "version": "3.5.2"
  }
 },
 "nbformat": 4,
 "nbformat_minor": 1
}
